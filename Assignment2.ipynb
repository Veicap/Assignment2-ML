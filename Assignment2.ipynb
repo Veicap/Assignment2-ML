{
 "cells": [
  {
   "cell_type": "markdown",
   "id": "5c3d5059-9dae-42cc-a601-c9af3798edda",
   "metadata": {},
   "source": [
    "Library"
   ]
  },
  {
   "cell_type": "code",
   "execution_count": 22,
   "id": "4607a647-706a-4b3e-9eda-1b827199c013",
   "metadata": {},
   "outputs": [],
   "source": [
    "import numpy as np\n",
    "import pandas as pd\n",
    "from sklearn.model_selection import train_test_split, cross_val_score, KFold\n",
    "from sklearn.preprocessing import LabelEncoder\n",
    "from sklearn.metrics import confusion_matrix, precision_score, f1_score\n",
    "from sklearn.ensemble import RandomForestClassifier "
   ]
  },
  {
   "cell_type": "markdown",
   "id": "95a5df6f-23f6-4e28-b03d-39b55f5bcf0b",
   "metadata": {},
   "source": [
    "Read file csv"
   ]
  },
  {
   "cell_type": "code",
   "execution_count": 23,
   "id": "cea6539c-a5f0-4eb6-8a29-5cb5ffdf844a",
   "metadata": {},
   "outputs": [],
   "source": [
    "url = \"https://raw.githubusercontent.com/Veicap/Assignment2-ML/refs/heads/main/cleaned_data_file.csv\"\n",
    "df = pd.read_csv(url)"
   ]
  },
  {
   "cell_type": "code",
   "execution_count": 25,
   "id": "37354ac6-0930-4c11-8c3e-1509ecd41aac",
   "metadata": {},
   "outputs": [
    {
     "name": "stdout",
     "output_type": "stream",
     "text": [
      "       satisfaction_level  last_evaluation  number_project  \\\n",
      "0                    0.38             0.53               2   \n",
      "1                    0.80             0.86               5   \n",
      "2                    0.11             0.88               7   \n",
      "3                    0.72             0.87               5   \n",
      "4                    0.37             0.52               2   \n",
      "...                   ...              ...             ...   \n",
      "12254                0.40             0.47               2   \n",
      "12255                0.43             0.46               2   \n",
      "12256                0.89             0.88               5   \n",
      "12257                0.76             0.83               6   \n",
      "12258                0.37             0.48               2   \n",
      "\n",
      "       average_montly_hours  time_spend_company  work_accident  left  \\\n",
      "0                157.000000            3.000000              0     1   \n",
      "1                262.000000            6.000000              0     1   \n",
      "2                272.000000            4.000000              0     1   \n",
      "3                223.000000            5.000000              0     1   \n",
      "4                200.511732            3.380048              0     1   \n",
      "...                     ...                 ...            ...   ...   \n",
      "12254            128.000000            3.000000              0     1   \n",
      "12255            157.000000            3.000000              0     1   \n",
      "12256            228.000000            5.000000              1     1   \n",
      "12257            293.000000            6.000000              0     1   \n",
      "12258            160.000000            3.000000              0     1   \n",
      "\n",
      "       promotion_last_5years  department  salary  \n",
      "0                          0           7       1  \n",
      "1                          0           7       2  \n",
      "2                          0           7       2  \n",
      "3                          0           7       1  \n",
      "4                          0           7       1  \n",
      "...                      ...         ...     ...  \n",
      "12254                      0           7       2  \n",
      "12255                      0           7       2  \n",
      "12256                      0           8       1  \n",
      "12257                      0           8       1  \n",
      "12258                      0           8       1  \n",
      "\n",
      "[12259 rows x 10 columns]\n"
     ]
    }
   ],
   "source": [
    "label_encoder = LabelEncoder()\n",
    "categorical_columns = ['department', 'salary']\n",
    "df['department'] = label_encoder.fit_transform(df['department'])\n",
    "df['salary'] = label_encoder.fit_transform(df['salary'])\n",
    "\n",
    "print(df)"
   ]
  },
  {
   "cell_type": "code",
   "execution_count": 26,
   "id": "75689ab3-618d-44c1-b666-413bb42e52e9",
   "metadata": {},
   "outputs": [
    {
     "name": "stdout",
     "output_type": "stream",
     "text": [
      "Index(['satisfaction_level', 'last_evaluation', 'number_project',\n",
      "       'average_montly_hours', 'time_spend_company', 'work_accident', 'left',\n",
      "       'promotion_last_5years', 'department', 'salary'],\n",
      "      dtype='object')\n"
     ]
    }
   ],
   "source": [
    "print(df.columns)"
   ]
  },
  {
   "cell_type": "code",
   "execution_count": 27,
   "id": "816b6d9a-0dba-4b3a-9eb2-c24bf1ceb1f8",
   "metadata": {},
   "outputs": [],
   "source": [
    "X = df.drop('left', axis=1)\n",
    "y = df['left']"
   ]
  },
  {
   "cell_type": "markdown",
   "id": "52e2cacc-a2ea-439f-a747-41cb5f64e328",
   "metadata": {},
   "source": [
    "a. Split the data (85% training, 15% testing)"
   ]
  },
  {
   "cell_type": "code",
   "execution_count": 28,
   "id": "8b511c4b-f884-4c87-bd06-2a7e16a7d91c",
   "metadata": {},
   "outputs": [
    {
     "name": "stdout",
     "output_type": "stream",
     "text": [
      "Cross-validation scores: [0.97792706 0.98464491 0.98080614 0.98704415 0.98512476]\n",
      "Confusion Matrix:\n",
      "[[1527    2]\n",
      " [  32  278]]\n",
      "Precision: 0.9928571428571429\n",
      "F1 Score: 0.9423728813559322\n"
     ]
    }
   ],
   "source": [
    "X_train, X_test, y_train, y_test = train_test_split(X, y, test_size=0.15, random_state=42)\n",
    "\n",
    "X_train_shuffled, y_train_shuffled = X_train.values, y_train.values\n",
    "indices = np.random.permutation(len(X_train))\n",
    "X_train_shuffled = X_train_shuffled[indices]\n",
    "y_train_shuffled = y_train_shuffled[indices]\n",
    "\n",
    "kf = KFold(n_splits=5, shuffle=True, random_state=42)\n",
    "\n",
    "classifier = RandomForestClassifier(random_state=42)\n",
    "\n",
    "cross_val_scores = cross_val_score(classifier, X_train_shuffled, y_train_shuffled, cv=kf)\n",
    "print(f\"Cross-validation scores: {cross_val_scores}\")\n",
    "\n",
    "classifier.fit(X_train, y_train)\n",
    "y_pred = classifier.predict(X_test)\n",
    "\n",
    "conf_matrix = confusion_matrix(y_test, y_pred)\n",
    "precision = precision_score(y_test, y_pred)\n",
    "f1 = f1_score(y_test, y_pred)\n",
    "\n",
    "print(f\"Confusion Matrix:\\n{conf_matrix}\")\n",
    "print(f\"Precision: {precision}\")\n",
    "print(f\"F1 Score: {f1}\")"
   ]
  },
  {
   "cell_type": "markdown",
   "id": "8ca02577-189a-4bdc-9181-277ffb296764",
   "metadata": {},
   "source": [
    "b. Split the data (75% training, 25% testing)"
   ]
  },
  {
   "cell_type": "code",
   "execution_count": 29,
   "id": "45f11207-617a-4192-bc59-5b19f185bc34",
   "metadata": {},
   "outputs": [
    {
     "name": "stdout",
     "output_type": "stream",
     "text": [
      "Cross-validation scores: [0.98477433 0.98477433 0.98205546 0.98368679 0.98258977]\n",
      "Confusion Matrix:\n",
      "[[2532    2]\n",
      " [  52  479]]\n",
      "Precision: 0.9958419958419958\n",
      "F1 Score: 0.9466403162055336\n"
     ]
    }
   ],
   "source": [
    "X_train, X_test, y_train, y_test = train_test_split(X, y, test_size=0.25, random_state=42)\n",
    "X_train_shuffled, y_train_shuffled = X_train.values, y_train.values\n",
    "indices = np.random.permutation(len(X_train))\n",
    "X_train_shuffled = X_train_shuffled[indices]\n",
    "y_train_shuffled = y_train_shuffled[indices]\n",
    "\n",
    "kf = KFold(n_splits=5, shuffle=True, random_state=42)\n",
    "\n",
    "classifier = RandomForestClassifier(random_state=42)\n",
    "\n",
    "cross_val_scores = cross_val_score(classifier, X_train_shuffled, y_train_shuffled, cv=kf)\n",
    "print(f\"Cross-validation scores: {cross_val_scores}\")\n",
    "\n",
    "classifier.fit(X_train, y_train)\n",
    "y_pred = classifier.predict(X_test)\n",
    "\n",
    "conf_matrix = confusion_matrix(y_test, y_pred)\n",
    "precision = precision_score(y_test, y_pred)\n",
    "f1 = f1_score(y_test, y_pred)\n",
    "\n",
    "print(f\"Confusion Matrix:\\n{conf_matrix}\")\n",
    "print(f\"Precision: {precision}\")\n",
    "print(f\"F1 Score: {f1}\")"
   ]
  },
  {
   "cell_type": "markdown",
   "id": "e690877a-36f1-47d2-a0e3-5460ca8dcdf7",
   "metadata": {},
   "source": [
    "c. Split the data (65% training, 35% testing)"
   ]
  },
  {
   "cell_type": "code",
   "execution_count": 30,
   "id": "1a0f0345-b706-4c06-ba86-8ce30b338477",
   "metadata": {},
   "outputs": [
    {
     "name": "stdout",
     "output_type": "stream",
     "text": [
      "Cross-validation scores: [0.98117942 0.98306148 0.97992472 0.98305085 0.98179535]\n",
      "Confusion Matrix:\n",
      "[[3537    9]\n",
      " [  64  681]]\n",
      "Precision: 0.9869565217391304\n",
      "F1 Score: 0.9491289198606272\n"
     ]
    }
   ],
   "source": [
    "X_train, X_test, y_train, y_test = train_test_split(X, y, test_size=0.35, random_state=42)\n",
    "X_train_shuffled, y_train_shuffled = X_train.values, y_train.values\n",
    "indices = np.random.permutation(len(X_train))\n",
    "X_train_shuffled = X_train_shuffled[indices]\n",
    "y_train_shuffled = y_train_shuffled[indices]\n",
    "\n",
    "kf = KFold(n_splits=5, shuffle=True, random_state=42)\n",
    "\n",
    "classifier = RandomForestClassifier(random_state=42)\n",
    "\n",
    "cross_val_scores = cross_val_score(classifier, X_train_shuffled, y_train_shuffled, cv=kf)\n",
    "print(f\"Cross-validation scores: {cross_val_scores}\")\n",
    "\n",
    "classifier.fit(X_train, y_train)\n",
    "y_pred = classifier.predict(X_test)\n",
    "\n",
    "conf_matrix = confusion_matrix(y_test, y_pred)\n",
    "precision = precision_score(y_test, y_pred)\n",
    "f1 = f1_score(y_test, y_pred)\n",
    "\n",
    "print(f\"Confusion Matrix:\\n{conf_matrix}\")\n",
    "print(f\"Precision: {precision}\")\n",
    "print(f\"F1 Score: {f1}\")"
   ]
  }
 ],
 "metadata": {
  "kernelspec": {
   "display_name": "Python 3 (ipykernel)",
   "language": "python",
   "name": "python3"
  },
  "language_info": {
   "codemirror_mode": {
    "name": "ipython",
    "version": 3
   },
   "file_extension": ".py",
   "mimetype": "text/x-python",
   "name": "python",
   "nbconvert_exporter": "python",
   "pygments_lexer": "ipython3",
   "version": "3.12.4"
  }
 },
 "nbformat": 4,
 "nbformat_minor": 5
}
